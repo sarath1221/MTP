{
 "cells": [
  {
   "cell_type": "code",
   "execution_count": 2,
   "metadata": {
    "id": "UWRt02jUjNte"
   },
   "outputs": [],
   "source": [
    "Dataset_size = 10000\n",
    "g_star = 'both'       # low or high or both\n",
    "model = 'WS'     # FC or WS\n",
    "g_known = False   # True or False\n",
    "BATCH_SIZE = 100\n",
    "C = 5\n",
    "Epochs = 500"
   ]
  },
  {
   "cell_type": "code",
   "execution_count": 4,
   "metadata": {
    "colab": {
     "base_uri": "https://localhost:8080/"
    },
    "id": "Gbc2OZhLjNtk",
    "outputId": "9cdcd267-ea69-478b-cb7a-71d1798e4759",
    "scrolled": false
   },
   "outputs": [
    {
     "name": "stdout",
     "output_type": "stream",
     "text": [
      "gaussian_0.17_True_WS_both\n",
      "0.42148004710674286\n",
      "0.3281837604939938\n",
      "1.7014242994264352e-05\n",
      "6.690796407582411e-08\n",
      "4.167619019335156e-10\n",
      "2.97925095288365e-10\n",
      "2.721647782144565e-10\n",
      "2.6223451715656763e-10\n",
      "2.540351937141416e-10\n",
      "2.488256466148808e-10\n",
      "gaussian_0.17_True_FC_both\n",
      "0.4123788395524025\n",
      "0.3549103298783302\n",
      "0.3452237577736378\n",
      "0.3391532039642334\n",
      "0.33624408215284346\n",
      "0.3305837436020374\n",
      "0.3280174106359482\n",
      "0.327526018768549\n",
      "0.3273317790031433\n",
      "0.3271929903328419\n",
      "gaussian_0.17_False_WS_both\n",
      "0.22410224184393882\n",
      "0.18540651693940163\n",
      "0.18341006204485893\n",
      "0.18230271443724633\n",
      "0.17539615511894227\n",
      "0.13747728399932385\n",
      "0.08129966910928488\n",
      "0.0770899574458599\n",
      "0.074758530408144\n",
      "0.07256363932043314\n",
      "gaussian_0.17_False_FC_both\n",
      "0.22664331659674644\n",
      "0.18414172023534775\n",
      "0.18247580617666245\n",
      "0.18112347140908241\n",
      "0.179974644780159\n",
      "0.17895037576556205\n",
      "0.17784477144479752\n",
      "0.17660040080547332\n",
      "0.17562164679169656\n",
      "0.17474402815103532\n",
      "mnist_0.17_False_WS_both\n",
      "(60000, 28, 28, 1)\n",
      "0.46105061650276186\n",
      "0.25234878197312355\n",
      "0.23696741953492165\n",
      "0.23276169329881669\n",
      "0.22894748136401177\n",
      "0.2260439032316208\n",
      "0.22655229672789573\n",
      "0.22369552433490753\n",
      "0.22136013478040695\n",
      "0.21999993801116943\n",
      "mnist_0.17_False_FC_both\n",
      "(60000, 28, 28, 1)\n",
      "0.2832179109752178\n",
      "0.17484316624701024\n",
      "0.1514604727178812\n",
      "0.14578478418290616\n",
      "0.1425955468416214\n",
      "0.14040150590240955\n",
      "0.13923630453646182\n",
      "0.13768852569162846\n",
      "0.1362860705703497\n",
      "0.13613370560109617\n"
     ]
    }
   ],
   "source": [
    "import numpy as np\n",
    "import torch\n",
    "import torch.nn as nn\n",
    "import torch.optim as optim\n",
    "from torch.utils.data import Dataset, DataLoader\n",
    "from keras.datasets import mnist\n",
    "import pickle\n",
    "import random\n",
    "import math\n",
    "import tensorflow as tf\n",
    "import os\n",
    "\n",
    "\n",
    "\n",
    "class trainData(Dataset):\n",
    "    \n",
    "    def __init__(self, X_data, y_data):\n",
    "        self.X_data = X_data\n",
    "        self.y_data = y_data\n",
    "        \n",
    "    def __getitem__(self, index):\n",
    "        return self.X_data[index], self.y_data[index]\n",
    "        \n",
    "    def __len__ (self):\n",
    "        return len(self.X_data)\n",
    "    \n",
    "    \n",
    "class Model_h(nn.Module):\n",
    "    def __init__(self):\n",
    "        super(Model_h, self).__init__()\n",
    "        \n",
    "        if(model == 'FC') :\n",
    "            self.W = nn.Parameter(torch.tensor(np.zeros((10,10)), dtype = torch.float, requires_grad = True))\n",
    "        elif(model == 'WS') :\n",
    "            self.W = nn.Parameter(torch.tensor(np.zeros((1,10)), dtype = torch.float, requires_grad = True))\n",
    "            \n",
    "        torch.nn.init.xavier_uniform_(self.W)\n",
    "        \n",
    "    def forward(self, inputs):\n",
    "        \n",
    "        x = inputs * self.W\n",
    "        x = torch.tanh(x)\n",
    "        x = x.sum(dim = -1)\n",
    "        \n",
    "        return x\n",
    "\n",
    "class Model_g(nn.Module) :\n",
    "    def __init__(self, C=1):\n",
    "        super(Model_g, self).__init__()\n",
    "        \n",
    "        self.C = C\n",
    "\n",
    "        if( not g_known) : \n",
    "            self.layer_list = nn.ModuleList()\n",
    "            self.layer_list.append(nn.Linear(10, 50))\n",
    "            self.layer_list.append(nn.Linear(50, 1))\n",
    "        \n",
    "    def forward(self, inputs):\n",
    "        \n",
    "        if(g_known) :\n",
    "            if(g_star=='low') :\n",
    "                return inputs[:, 0]\n",
    "            elif(g_star=='high') :\n",
    "                return torch.cos(inputs[:, :5].sum(-1))\n",
    "            elif(g_star=='both') :\n",
    "                return (inputs[:, 0]*self.C+  torch.cos(inputs[:, :5].sum(-1)))/(C+1)\n",
    "        else:\n",
    "            x = self.layer_list[0](inputs)\n",
    "            x = torch.relu(x)\n",
    "            x = self.layer_list[1](x)\n",
    "            return x[:,0]\n",
    "\n",
    "for d_set in [\"gaussian\", \"mnist\"] :\n",
    "\n",
    "  if(d_set == \"gaussian\") :\n",
    "    temp = [True, False]\n",
    "  else :\n",
    "    temp =[False]\n",
    "\n",
    "  for g_known in temp :\n",
    "\n",
    "    #for g_star in [\"low\", \"high\", \"both\"] :\n",
    "    for g_star in [ \"both\"] :\n",
    "        \n",
    "      if (g_star == \"both\") :\n",
    "        temp2= [ 0.17]\n",
    "      else :\n",
    "        temp2 = [1]\n",
    "\n",
    "      for C in temp2 :\n",
    "\n",
    "        for model in ['WS', 'FC'] :\n",
    "          \n",
    "          print(d_set+\"_\" +str(C)+\"_\"+str(g_known)+\"_\"+model+\"_\"+g_star)\n",
    "\n",
    "          np.random.seed(0)\n",
    "\n",
    "          if (d_set == \"gaussian\") :\n",
    "            X = np.random.normal(size = (Dataset_size, 10, 10))\n",
    "          else :\n",
    "            (trainX, trainy), (testX, testy) = mnist.load_data()\n",
    "            trainX = np.expand_dims(trainX, 3)\n",
    "            print(trainX.shape)\n",
    "\n",
    "            X = tf.image.extract_patches(trainX, (1, 10, 10, 1), (1, 5, 5, 1), (1,1,1,1), padding='VALID')\n",
    "            X = np.reshape(X, (-1, 10, 10))\n",
    "            X = X[np.random.choice(range(X.shape[0]), 10000)]\n",
    "            mean = np.sum(X, axis = (1,2))/100\n",
    "            mean = np.reshape(mean, (-1, 1, 1))\n",
    "            X = X - mean\n",
    "\n",
    "          U_0 = np.random.normal(size = (10,1))\n",
    "\n",
    "          X_temp = np.sum(np.tanh(X * U_0.T), axis = -1)\n",
    "\n",
    "          if(g_star == 'low') :\n",
    "              Y = X_temp[:, 0]\n",
    "          if(g_star == 'high') :\n",
    "              Y = np.cos(np.sum(X_temp[:, :5], axis = -1))\n",
    "          if(g_star == 'both') :\n",
    "              Y = X_temp[:, 0]*C + np.cos(np.sum(X_temp[:, :5], axis = -1))\n",
    "              Y = Y/(C+1)\n",
    "\n",
    "          g = Model_g(C)\n",
    "          h = Model_h()\n",
    "\n",
    "          train_data = trainData(torch.FloatTensor(X), torch.FloatTensor(Y))\n",
    "          train_loader = DataLoader(dataset=train_data, batch_size=BATCH_SIZE, shuffle=True)\n",
    "          criteria = nn.MSELoss()\n",
    "          optimizer = optim.SGD(list(g.parameters())+list(h.parameters()), lr = 0.01)\n",
    "\n",
    "          g.train()\n",
    "          h.train()\n",
    "\n",
    "          res = np.zeros(Epochs)\n",
    "\n",
    "          for epoch in range(Epochs) :\n",
    "              epoch_loss = 0\n",
    "              for X_batch, y_batch in train_loader :\n",
    "                  optimizer.zero_grad()\n",
    "                  y_pred = g(h(X_batch))\n",
    "                  loss = criteria(y_pred, y_batch)\n",
    "                  loss.backward()\n",
    "                  optimizer.step()\n",
    "                  epoch_loss += loss.item()/2\n",
    "              if(epoch % 50 == 0):\n",
    "                  print(epoch_loss/len(train_loader))\n",
    "              res[epoch] = epoch_loss/len(train_loader)\n",
    "\n",
    "          file = open(\".\\\\Results_ws_new\\\\\"+d_set+\"_\" +str(C).replace(\".\",\"\")+\"_\"+str(g_known)+\"_\"+model+\"_\"+g_star, 'wb')\n",
    "          pickle.dump(res, file)\n",
    "          file.close()"
   ]
  },
  {
   "cell_type": "code",
   "execution_count": 3,
   "metadata": {
    "colab": {
     "base_uri": "https://localhost:8080/"
    },
    "id": "JSdiqq6Uv1-1",
    "outputId": "bd01a682-6904-4881-eddf-eca460b88d88"
   },
   "outputs": [
    {
     "name": "stdout",
     "output_type": "stream",
     "text": [
      "Drive already mounted at /content/drive; to attempt to forcibly remount, call drive.mount(\"/content/drive\", force_remount=True).\n"
     ]
    }
   ],
   "source": [
    "from google.colab import drive\n",
    "drive.mount('/content/drive')"
   ]
  },
  {
   "cell_type": "code",
   "execution_count": 19,
   "metadata": {
    "colab": {
     "base_uri": "https://localhost:8080/",
     "height": 35
    },
    "id": "XEBL5Usamcrp",
    "outputId": "97de31fb-e852-41c7-a6b6-4b44d0ad8c07"
   },
   "outputs": [
    {
     "data": {
      "text/plain": [
       "<matplotlib.image.AxesImage at 0x2b2f309d5e0>"
      ]
     },
     "execution_count": 19,
     "metadata": {},
     "output_type": "execute_result"
    },
    {
     "data": {
      "image/png": "[encoded data removed]",
      "text/plain": [
       "<Figure size 432x288 with 1 Axes>"
      ]
     },
     "metadata": {
      "needs_background": "light"
     },
     "output_type": "display_data"
    }
   ],
   "source": [
    "import matplotlib.pyplot as plt\n",
    "images = X.reshape(-1,10,10)\n",
    "plt.imshow(images[6])"
   ]
  },
  {
   "cell_type": "code",
   "execution_count": 29,
   "metadata": {
    "id": "b9PQqMMytCf1"
   },
   "outputs": [
    {
     "data": {
      "text/plain": [
       "tensor([  9.0000, -40.6522,   1.0000,  -9.8626,  -9.0000,  18.6474, -19.1624,\n",
       "          1.0000, -29.0444, -19.5761, -39.8458,   1.0000,  20.4242, -10.7880,\n",
       "        -39.5106, -30.6536, -39.0604, -41.0000,  40.7367,  11.8707,   1.0000,\n",
       "        -10.9577, -39.8457, -40.4645, -36.4256,  -9.5896,   0.1406, -40.6663,\n",
       "        -19.2371,   0.6527,  11.0000, -39.8458, -40.8477, -40.6669, -29.9637,\n",
       "        -10.4160,  -9.3199,  30.6469, -40.6669, -36.4392, -39.4139, -29.0449,\n",
       "        -39.0429, -19.5919,  -0.6511, -17.0695, -10.8391, -39.0415, -29.0604,\n",
       "        -17.2137, -40.6669, -40.6669,  17.4919,  -9.8633,  -0.4162, -39.3531,\n",
       "        -37.3911, -40.6642, -19.0398, -19.4538,   1.0000,  -0.1455, -40.5503,\n",
       "        -30.9577,  29.1514,  -1.6513, -29.8449, -30.8486, -40.9626,  10.9365,\n",
       "        -10.8293,  28.9667,   9.8496, -40.6669, -39.5758,  19.0423,  -9.8457,\n",
       "        -39.0431,  -5.4312,  -9.1584,   1.0000,   0.1367, -20.1455, -41.0000,\n",
       "        -19.3396,  -0.4161,   1.0000,   1.0000, -29.3529, -40.6155, -40.6544,\n",
       "         10.6368, -10.9999,   1.0000, -20.7864, -10.1552, -40.6657, -40.6666,\n",
       "          0.9530, -39.0404])"
      ]
     },
     "execution_count": 29,
     "metadata": {},
     "output_type": "execute_result"
    }
   ],
   "source": []
  },
  {
   "cell_type": "code",
   "execution_count": null,
   "metadata": {},
   "outputs": [],
   "source": []
  }
 ],
 "metadata": {
  "colab": {
   "collapsed_sections": [],
   "name": "Weight_sharing.ipynb",
   "provenance": []
  },
  "kernelspec": {
   "display_name": "Python 3",
   "language": "python",
   "name": "python3"
  },
  "language_info": {
   "codemirror_mode": {
    "name": "ipython",
    "version": 3
   },
   "file_extension": ".py",
   "mimetype": "text/x-python",
   "name": "python",
   "nbconvert_exporter": "python",
   "pygments_lexer": "ipython3",
   "version": "3.8.8"
  }
 },
 "nbformat": 4,
 "nbformat_minor": 1
}
